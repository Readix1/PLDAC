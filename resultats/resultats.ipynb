{
 "cells": [
  {
   "cell_type": "markdown",
   "metadata": {},
   "source": [
    "# Séance du 26/03"
   ]
  },
  {
   "cell_type": "markdown",
   "metadata": {},
   "source": [
    "* 65 000 données au lieu des 13 000 d'auparavant\n",
    "* window (neighs) = 1\n",
    "* delta = 1"
   ]
  },
  {
   "cell_type": "markdown",
   "metadata": {},
   "source": [
    "## Phase d'initialisation"
   ]
  },
  {
   "cell_type": "markdown",
   "metadata": {},
   "source": [
    "### Version 1 (rapport Ayres Caule)"
   ]
  },
  {
   "cell_type": "markdown",
   "metadata": {},
   "source": [
    "* tous les scores utilisateurs et produits à 1\n",
    "* scores revues à 0 si ni doublon spam, ni dans un burst\n",
    "* si doublon spam, score revue à -1\n",
    "* si dans burst, score revue entre -1 et 0 selon caractéristiques du burst\n",
    "\n",
    "Mélange avec initialisation de Dias:\n",
    "* scores revues selon le score d'entente si ni doublon spam, ni dans un burst\n",
    "* si doublon spam + burst, score revue à -1 ou -0.75\n",
    "* si dans burst ou doublon, score revue à -0.75 ou -0.5"
   ]
  },
  {
   "cell_type": "markdown",
   "metadata": {},
   "source": [
    "**Pour une initialisation: doublon + burst =-1, doublon ou burst = -0.75, sinon score d'entente**"
   ]
  },
  {
   "cell_type": "markdown",
   "metadata": {},
   "source": [
    "* score utilisateur"
   ]
  },
  {
   "cell_type": "markdown",
   "metadata": {},
   "source": [
    "![alt-text-1](i1_score_utils_0.png \"title-1\") ![alt-text-2](i1_score_utils_1.png \"title-2\") ![alt-text-3](i1_score_utils_10.png \"title-3\") ![alt-text-4](i1_score_utils_50.png \"title-4\")"
   ]
  },
  {
   "cell_type": "markdown",
   "metadata": {},
   "source": [
    "* score produits"
   ]
  },
  {
   "cell_type": "markdown",
   "metadata": {},
   "source": [
    "![alt-text-1](i1_score_prods_0.png \"title-1\") ![alt-text-2](i1_score_prods_1.png \"title-2\") ![alt-text-3](i1_score_prods_10.png \"title-3\") ![alt-text-4](i1_score_prods_50.png \"title-4\")"
   ]
  },
  {
   "cell_type": "markdown",
   "metadata": {},
   "source": [
    "* score reviews"
   ]
  },
  {
   "cell_type": "markdown",
   "metadata": {},
   "source": [
    "![alt-text-1](i1_score_revs_0.png \"title-1\") ![alt-text-2](i1_score_revs_1.png \"title-2\") ![alt-text-3](i1_score_revs_10.png \"title-3\") ![alt-text-4](i1_score_revs_50.png \"title-4\")"
   ]
  },
  {
   "cell_type": "markdown",
   "metadata": {},
   "source": [
    "**Observations:**\n",
    "\n",
    "L'algo pagerank converge en très peu d'itérations donc l'initialisation est très très importante. \n",
    "On remarque que même à 50 itérations, les scores reviews changent très peu des score de départ à 1 itération, hors à la 1ère itération les scores pour les reviews en doublon spam et dans les bursts sont fixés manuellement. On a peur qu'au final une mauvaise initialisation impacte beaucoup le résultat final.\n",
    "\n",
    "On reteste cette fois avec une nouvelle itération pour vérifier si une mauvaise initialisation donne de très mauvais résultats."
   ]
  },
  {
   "cell_type": "markdown",
   "metadata": {},
   "source": [
    "**Pour une initialisation: doublon + burst = 0, doublon ou burst = 0, sinon score d'entente**"
   ]
  },
  {
   "cell_type": "markdown",
   "metadata": {},
   "source": [
    "* score utilisateur"
   ]
  },
  {
   "cell_type": "markdown",
   "metadata": {},
   "source": [
    "![alt-text-1](i2_score_utils_0.png \"title-1\") ![alt-text-2](i2_score_utils_1.png \"title-2\") ![alt-text-3](i2_score_utils_10.png \"title-3\") ![alt-text-4](i2_score_utils_50.png \"title-4\")"
   ]
  },
  {
   "cell_type": "markdown",
   "metadata": {},
   "source": [
    "* score produits"
   ]
  },
  {
   "cell_type": "markdown",
   "metadata": {},
   "source": [
    "![alt-text-1](i2_score_prods_0.png \"title-1\") ![alt-text-2](i2_score_prods_1.png \"title-2\") ![alt-text-3](i2_score_prods_10.png \"title-3\") ![alt-text-4](i2_score_prods_50.png \"title-4\")"
   ]
  },
  {
   "cell_type": "markdown",
   "metadata": {},
   "source": [
    "* score reviews"
   ]
  },
  {
   "cell_type": "markdown",
   "metadata": {},
   "source": [
    "![alt-text-1](i2_score_revs_0.png \"title-1\") ![alt-text-2](i2_score_revs_1.png \"title-2\") ![alt-text-3](i2_score_revs_10.png \"title-3\") ![alt-text-4](i2_score_revs_50.png \"title-4\")"
   ]
  },
  {
   "cell_type": "markdown",
   "metadata": {},
   "source": [
    "**Observations:**\n",
    "\n",
    "On voit bien que en initialisant mal (ici on a mal initialisé les revues) tout va mal puisqu'après la 1ère itération sur les scores de revues, ces scores changeront très peu.\n",
    "\n",
    "On se dit que c'est dommage de ne pas prendre en compte les scores d'entente des revues suspectées spams/doublons/dans un burst. En particulier dans le cas d'un burst car c'est une information très incertaine.\n",
    "\n",
    "Plutôt que de changer l'initialisation  des scores de revues selon si elles sont suspectes, on se dit que c'est peut être mieux de changer l'initialisation des utilisateurs et produits:\n",
    "\n",
    "* si doublon spam et dans burst: initialisation du score revue à -1\n",
    "* si dans burst ou doublons spam: initialisation du score utilisateur et produit à 0 plutôt qu'à 1"
   ]
  },
  {
   "cell_type": "markdown",
   "metadata": {},
   "source": [
    "## Version 2 (Dias)"
   ]
  },
  {
   "cell_type": "markdown",
   "metadata": {},
   "source": [
    "* score revues en doublon à -1, les autres selon le score d'entente\n",
    "* pour les revues burst + déviation note et ceux en doublons, initialisation des scores produits et utilisateurs à 0, 1 sinon\n",
    "\n",
    "Notre variante:\n",
    "* pour les revues burst + déviation note et ceux en doublons, initialisation des scores utilisateurs seulement à 0, 1 sinon à 1, car on se dit que peu de revues malhonnêtes ne devraient pas impacter la note du produit"
   ]
  },
  {
   "cell_type": "markdown",
   "metadata": {},
   "source": [
    "* scores utilisateurs"
   ]
  },
  {
   "cell_type": "markdown",
   "metadata": {},
   "source": [
    "![alt-text-1](i3_score_utils_0.png \"title-1\") ![alt-text-2](i3_score_utils_1.png \"title-2\") ![alt-text-3](i3_score_utils_10.png \"title-3\") ![alt-text-4](i3_score_utils_50.png \"title-4\")"
   ]
  },
  {
   "cell_type": "markdown",
   "metadata": {},
   "source": [
    "* scores produits"
   ]
  },
  {
   "cell_type": "markdown",
   "metadata": {},
   "source": [
    "![alt-text-1](i3_score_prods_0.png \"title-1\") ![alt-text-2](i3_score_prods_1.png \"title-2\") ![alt-text-3](i3_score_prods_10.png \"title-3\") ![alt-text-4](i3_score_prods_50.png \"title-4\")"
   ]
  },
  {
   "cell_type": "markdown",
   "metadata": {},
   "source": [
    "* scores reviews"
   ]
  },
  {
   "cell_type": "markdown",
   "metadata": {},
   "source": [
    "![alt-text-1](i3_score_revs_0.png \"title-1\") ![alt-text-2](i3_score_revs_1.png \"title-2\") ![alt-text-3](i3_score_revs_10.png \"title-3\") ![alt-text-4](i3_score_revs_50.png \"title-4\")"
   ]
  },
  {
   "cell_type": "markdown",
   "metadata": {},
   "source": [
    "On remarque qu'il y a beaucoup de revues dont le score est de 0... Est-ce-que c'est bien normal ?\n",
    "\n",
    "On décide de vérifier le score final:\n",
    "   * des revues à la fois doublon spam et dans un burst/deviation\n",
    "   * des revues seulement dans un burst déviation\n",
    "\n",
    "Normalement la plupart des revues de la 1ère catégorie devraient être aux environs de -1, d'autres devraient avoir un score moins élevé.\n",
    "\n",
    "Pour les revues de la 2e catégorie, on s'attend à ce que ce soit plus variable ! Certains à -1 (très peu), certains à 1, le reste entre."
   ]
  },
  {
   "cell_type": "markdown",
   "metadata": {},
   "source": [
    "* Revues à la fois en doublon et dans un burst/déviation"
   ]
  },
  {
   "cell_type": "markdown",
   "metadata": {},
   "source": [
    "![alt-text-1](i3_score_suspams.png \"title-1\")"
   ]
  },
  {
   "cell_type": "markdown",
   "metadata": {},
   "source": [
    "Ok.\n",
    "\n",
    "* Revues dans un burst/déviation"
   ]
  },
  {
   "cell_type": "markdown",
   "metadata": {},
   "source": [
    "![alt-text-1](i3_score_suspams_ids.png \"title-1\")"
   ]
  },
  {
   "cell_type": "markdown",
   "metadata": {},
   "source": [
    "Tous les scores à 0, sauf ceux des revues en doublon spam... Ce n'est pas ce que l'on cherche. On change l'initialisation des scores auteurs des revues se trouvant dans un burst-déviation.\n",
    "\n",
    "Au lieu de mettre à 0, on met à -0.01."
   ]
  },
  {
   "cell_type": "markdown",
   "metadata": {},
   "source": [
    "**Score utilisateurs des revues dans un burst/deviation à -0.01:**"
   ]
  },
  {
   "cell_type": "markdown",
   "metadata": {},
   "source": [
    "* scores utilisateurs\n",
    "\n",
    "![alt-text-1](i4_score_utils_50.png \"title-1\")"
   ]
  },
  {
   "cell_type": "markdown",
   "metadata": {},
   "source": [
    "* scores produits\n",
    "\n",
    "![alt-text-1](i4_score_prods_50.png \"title-1\")"
   ]
  },
  {
   "cell_type": "markdown",
   "metadata": {},
   "source": [
    "* scores reviews\n",
    "\n",
    "![alt-text-1](i4_score_revs_50.png \"title-1\")"
   ]
  },
  {
   "cell_type": "markdown",
   "metadata": {},
   "source": [
    "* Revues à la fois dans en doublon et dans un burst/deviation\n",
    "\n",
    "![alt-text-1](i4_score_suspams.png \"title-1\")"
   ]
  },
  {
   "cell_type": "markdown",
   "metadata": {},
   "source": [
    "* Revues dans un burst/déviation\n",
    "\n",
    "![alt-text-1](i4_score_suspams_ids.png \"title-1\")"
   ]
  },
  {
   "cell_type": "markdown",
   "metadata": {},
   "source": [
    "C'est un peu mieux, certaines revues dont le score était précédemment à 0 ont maintenant un score à -1 ou à > 0.5"
   ]
  },
  {
   "cell_type": "markdown",
   "metadata": {},
   "source": [
    "**Score utilisateur des revues dans un burst/déviation à -0.05:**"
   ]
  },
  {
   "cell_type": "markdown",
   "metadata": {},
   "source": [
    "* Revues à la fois en doublon et dans un burst/déviation\n",
    "\n",
    "![alt-text-1](i5_score_suspams.png \"title-1\")"
   ]
  },
  {
   "cell_type": "markdown",
   "metadata": {},
   "source": [
    "* Revues dans un burst/déviation\n",
    "\n",
    "![alt-text-1](i5_score_suspams_ids.png \"title-1\")"
   ]
  },
  {
   "cell_type": "markdown",
   "metadata": {},
   "source": [
    "**Score utilisateur des revues dans un burst/déviation à -1:**"
   ]
  },
  {
   "cell_type": "markdown",
   "metadata": {},
   "source": [
    "* Revues à la fois en doublon et dans un burst/déviation\n",
    "\n",
    "![alt-text-1](i6_score_suspams.png \"title-1\")"
   ]
  },
  {
   "cell_type": "markdown",
   "metadata": {},
   "source": [
    "* Revues dans un burst/déviation\n",
    "\n",
    "![alt-text-1](i6_score_suspams_ids.png \"title-1\")"
   ]
  },
  {
   "cell_type": "markdown",
   "metadata": {},
   "source": [
    "Cette fois-ci trop de revues à -1. On garde le score_util à -0.02 ?"
   ]
  },
  {
   "cell_type": "markdown",
   "metadata": {},
   "source": [
    "**Scores utils des rveues dans un burst/déviation à -0.02**"
   ]
  },
  {
   "cell_type": "markdown",
   "metadata": {},
   "source": [
    "* scores utilisateurs\n",
    "\n",
    "![alt-text-1](i7_score_utils_0.png \"title-1\") ![alt-text-2](i7_score_utils_1.png \"title-2\") ![alt-text-3](i7_score_utils_10.png \"title-3\") ![alt-text-4](i7_score_utils_50.png \"title-4\")"
   ]
  },
  {
   "cell_type": "markdown",
   "metadata": {},
   "source": [
    "* scores produits\n",
    "\n",
    "![alt-text-1](i7_score_prods_0.png \"title-1\") ![alt-text-2](i7_score_prods_1.png \"title-2\") ![alt-text-3](i7_score_prods_10.png \"title-3\") ![alt-text-4](i7_score_prods_50.png \"title-4\")"
   ]
  },
  {
   "cell_type": "markdown",
   "metadata": {},
   "source": [
    "* scores reviews\n",
    "\n",
    "![alt-text-1](i7_score_revs_0.png \"title-1\") ![alt-text-2](i7_score_revs_1.png \"title-2\") ![alt-text-3](i7_score_revs_10.png \"title-3\") ![alt-text-4](i7_score_revs_50.png \"title-4\")"
   ]
  },
  {
   "cell_type": "markdown",
   "metadata": {},
   "source": [
    "* Revues à la fois en doublon et dans un burst/déviation\n",
    "\n",
    "![alt-text-1](i7_score_suspams.png \"title-1\")"
   ]
  },
  {
   "cell_type": "markdown",
   "metadata": {},
   "source": [
    "* Revues dans un burst/déviation\n",
    "\n",
    "![alt-text-1](i5_score_suspams_ids.png \"title-1\")"
   ]
  },
  {
   "cell_type": "markdown",
   "metadata": {},
   "source": [
    "**Evolution des notes de 5 parmi les produits de plus mauvais scores:**"
   ]
  },
  {
   "cell_type": "markdown",
   "metadata": {},
   "source": [
    "![alt-text-1](worst_1.png \"title-1\") ![alt-text-2](worst_2.png \"title-2\") ![alt-text-3](worst_3.png \"title-3\") ![alt-text-4](worst_4.png \"title-4\") ![alt-text-5](worst_5.png \"title-5\")"
   ]
  },
  {
   "cell_type": "markdown",
   "metadata": {},
   "source": [
    "**Evolution des notes de 5 parmi les produits de meilleurs scores:**"
   ]
  },
  {
   "cell_type": "markdown",
   "metadata": {},
   "source": [
    "![alt-text-1](best_1.png \"title-1\") ![alt-text-2](best_2.png \"title-2\") ![alt-text-3](best_3.png \"title-3\") ![alt-text-4](best_4.png \"title-4\") ![alt-text-5](best_5.png \"title-5\")"
   ]
  },
  {
   "cell_type": "markdown",
   "metadata": {},
   "source": []
  },
  {
   "cell_type": "markdown",
   "metadata": {},
   "source": []
  },
  {
   "cell_type": "markdown",
   "metadata": {},
   "source": []
  },
  {
   "cell_type": "markdown",
   "metadata": {},
   "source": []
  },
  {
   "cell_type": "markdown",
   "metadata": {},
   "source": []
  },
  {
   "cell_type": "markdown",
   "metadata": {},
   "source": []
  },
  {
   "cell_type": "code",
   "execution_count": null,
   "metadata": {},
   "outputs": [],
   "source": []
  },
  {
   "cell_type": "code",
   "execution_count": null,
   "metadata": {},
   "outputs": [],
   "source": []
  },
  {
   "cell_type": "code",
   "execution_count": null,
   "metadata": {},
   "outputs": [],
   "source": []
  },
  {
   "cell_type": "code",
   "execution_count": null,
   "metadata": {},
   "outputs": [],
   "source": [
    "Beaucoup trop de reviews à 0... Vérifier où sont les doublons spams et els soulons spams/bursts"
   ]
  },
  {
   "cell_type": "code",
   "execution_count": null,
   "metadata": {},
   "outputs": [],
   "source": []
  },
  {
   "cell_type": "code",
   "execution_count": null,
   "metadata": {},
   "outputs": [],
   "source": []
  },
  {
   "cell_type": "code",
   "execution_count": null,
   "metadata": {},
   "outputs": [],
   "source": []
  },
  {
   "cell_type": "code",
   "execution_count": null,
   "metadata": {},
   "outputs": [],
   "source": []
  },
  {
   "cell_type": "code",
   "execution_count": null,
   "metadata": {},
   "outputs": [],
   "source": []
  },
  {
   "cell_type": "code",
   "execution_count": null,
   "metadata": {},
   "outputs": [],
   "source": []
  },
  {
   "cell_type": "code",
   "execution_count": null,
   "metadata": {},
   "outputs": [],
   "source": []
  },
  {
   "cell_type": "code",
   "execution_count": 3,
   "metadata": {},
   "outputs": [
    {
     "name": "stderr",
     "output_type": "stream",
     "text": [
      "'[alt-text-1]' n'est pas reconnu en tant que commande interne\n",
      "ou externe, un programme ex‚cutable ou un fichier de commandes.\n"
     ]
    }
   ],
   "source": [
    "![alt-text-1](score_revs_0.png \"title-1\") ![alt-text-2](score_revs_1.png \"title-2\") ![alt-text-3](score_revs_10.png \"title-3\") ![alt-text-4](score_revs_50.png \"title-4\")"
   ]
  },
  {
   "cell_type": "code",
   "execution_count": 4,
   "metadata": {},
   "outputs": [
    {
     "name": "stderr",
     "output_type": "stream",
     "text": [
      "'[alt-text-1]' n'est pas reconnu en tant que commande interne\n",
      "ou externe, un programme ex‚cutable ou un fichier de commandes.\n"
     ]
    }
   ],
   "source": [
    "![alt-text-1](score_revs_0.png \"title-1\") ![alt-text-2](score_revs_1.png \"title-2\") ![alt-text-3](score_revs_10.png \"title-3\") ![alt-text-4](score_revs_50.png \"title-4\")"
   ]
  },
  {
   "cell_type": "code",
   "execution_count": 5,
   "metadata": {},
   "outputs": [
    {
     "name": "stderr",
     "output_type": "stream",
     "text": [
      "'[alt-text-1]' n'est pas reconnu en tant que commande interne\n",
      "ou externe, un programme ex‚cutable ou un fichier de commandes.\n"
     ]
    }
   ],
   "source": [
    "![alt-text-1](score_revs_0.png \"title-1\") ![alt-text-2](score_revs_1.png \"title-2\") ![alt-text-3](score_revs_10.png \"title-3\") ![alt-text-4](score_revs_50.png \"title-4\")"
   ]
  },
  {
   "cell_type": "code",
   "execution_count": null,
   "metadata": {},
   "outputs": [],
   "source": []
  }
 ],
 "metadata": {
  "kernelspec": {
   "display_name": "Python 3",
   "language": "python",
   "name": "python3"
  },
  "language_info": {
   "codemirror_mode": {
    "name": "ipython",
    "version": 3
   },
   "file_extension": ".py",
   "mimetype": "text/x-python",
   "name": "python",
   "nbconvert_exporter": "python",
   "pygments_lexer": "ipython3",
   "version": "3.8.3"
  }
 },
 "nbformat": 4,
 "nbformat_minor": 4
}
