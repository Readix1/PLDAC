{
 "cells": [
  {
   "cell_type": "markdown",
   "metadata": {},
   "source": [
    "# Séance du 16/04/2021"
   ]
  },
  {
   "cell_type": "markdown",
   "metadata": {},
   "source": [
    "Deux méthodes testées:\n",
    "   * Seuils sur les matrices de similarité\n",
    "   * LDA"
   ]
  },
  {
   "cell_type": "markdown",
   "metadata": {},
   "source": [
    "## I - Méthode 1\n",
    "\n",
    "* Sur les revues d'un produit dans une période donnée (burst), calculer la matrice de similarité\n",
    "* Seuil sur la matrice de similarité (encodage en 0/1)\n",
    "* Seuil sur la somme (axis=1) des similarité par produit\n",
    "* Recherche des n-grams discriminants avec SVM + pénalisation elastic net\n",
    "* Classe -1: période burst, 1: hors-burst"
   ]
  },
  {
   "cell_type": "markdown",
   "metadata": {},
   "source": [
    "On s'attend à ce que:\n",
    "   * Pour les pires produits, il y ait un désaccord sur les n-grams discriminants pour les 2 classes pendant les périodes de burst\n",
    "   * Pours les meilleurs produits, accord\n",
    "\n",
    "\n",
    "_**Paramètres utilisés: tf-idf sur des bigrammes de mots**_"
   ]
  },
  {
   "cell_type": "markdown",
   "metadata": {},
   "source": [
    "#### Pires produits"
   ]
  },
  {
   "cell_type": "markdown",
   "metadata": {},
   "source": [
    "**Produit 1: `B000O8TWE8`**"
   ]
  },
  {
   "cell_type": "markdown",
   "metadata": {},
   "source": [
    "![alt-text-1](time_worst_1.png \"title-1\")"
   ]
  },
  {
   "cell_type": "markdown",
   "metadata": {},
   "source": [
    "Burst du nombre de revues entre les mois 100 et 140 pendant laquelle les notes s'améliorent: 109 revues.\n",
    "On s'attend à ce qu'il y ait plus de bigrammes positifs dans cette période."
   ]
  },
  {
   "attachments": {},
   "cell_type": "markdown",
   "metadata": {},
   "source": [
    "![alt-text-1](hist_worst_1.png \"title-1\")"
   ]
  },
  {
   "cell_type": "markdown",
   "metadata": {},
   "source": [
    "On prend un seuil sur les similarités à 0.7."
   ]
  },
  {
   "cell_type": "markdown",
   "metadata": {},
   "source": [
    "![alt-text-1](hist2_worst_1.png \"title-1\")"
   ]
  },
  {
   "cell_type": "markdown",
   "metadata": {},
   "source": [
    "Seuil sur les sommes de similarités seuillées à 1."
   ]
  },
  {
   "cell_type": "markdown",
   "metadata": {},
   "source": [
    "![alt-text-1](sim_worst_1.png \"title-1\")"
   ]
  },
  {
   "cell_type": "markdown",
   "metadata": {},
   "source": [
    "En période de burst:\n",
    "   * revues très similaires (classe 1): 3 bigrammes discriminants positifs\n",
    "   * les autres (classe -1): neutres"
   ]
  },
  {
   "cell_type": "markdown",
   "metadata": {},
   "source": [
    "![alt-text-1](disc_worst_1.png \"title-1\")"
   ]
  },
  {
   "cell_type": "markdown",
   "metadata": {},
   "source": [
    "Même étude en période hors-burst (mois 0 à 99):\n",
    "   * revues très similaires (classe 1): neutres\n",
    "   * les autres (classe -1): négatifs"
   ]
  },
  {
   "cell_type": "markdown",
   "metadata": {},
   "source": [
    "![alt-text-1](disc2_worst_1.png \"title-1\")"
   ]
  },
  {
   "cell_type": "markdown",
   "metadata": {},
   "source": [
    "**Produit 2: `9707716436`**"
   ]
  },
  {
   "cell_type": "markdown",
   "metadata": {},
   "source": [
    "![alt-text-1](time_worst_2.png \"title-1\")"
   ]
  },
  {
   "cell_type": "markdown",
   "metadata": {},
   "source": [
    "Burst du nombre de revues entre les mois 10 et 15 pendant laquelle les notes se dégradent: 47 revues.\n",
    "On s'attend à ce qu'il y ait plus de bigrammes négatifs dans cette période."
   ]
  },
  {
   "attachments": {},
   "cell_type": "markdown",
   "metadata": {},
   "source": [
    "![alt-text-1](hist_worst_2.png \"title-1\")"
   ]
  },
  {
   "cell_type": "markdown",
   "metadata": {},
   "source": [
    "On prend un seuil sur les similarités à 0.7."
   ]
  },
  {
   "cell_type": "markdown",
   "metadata": {},
   "source": [
    "![alt-text-1](hist2_worst_2.png \"title-1\")"
   ]
  },
  {
   "cell_type": "markdown",
   "metadata": {},
   "source": [
    "Seuil sur les sommes de similarités seuillées à 1."
   ]
  },
  {
   "cell_type": "markdown",
   "metadata": {},
   "source": [
    "![alt-text-1](sim_worst_2.png \"title-1\")"
   ]
  },
  {
   "cell_type": "markdown",
   "metadata": {},
   "source": [
    "En période de burst:\n",
    "   * revues très similaires (classe 1): 3 bigrammes discriminants négatifs\n",
    "   * les autres (classe -1): 2 neutres, 3 positifs"
   ]
  },
  {
   "cell_type": "markdown",
   "metadata": {},
   "source": [
    "![alt-text-1](disc_worst_2.png \"title-1\")"
   ]
  },
  {
   "cell_type": "markdown",
   "metadata": {},
   "source": [
    "Même étude en période hors-burst (mois 16 à 40):\n",
    "   * revues très similaires (classe 1): 2 bigrammes discriminants positifs, les autres neutres\n",
    "   * les autres (classe -1): 4 neutres, 1 négatif"
   ]
  },
  {
   "cell_type": "markdown",
   "metadata": {},
   "source": [
    "![alt-text-1](disc2_worst_2.png \"title-1\")"
   ]
  },
  {
   "cell_type": "markdown",
   "metadata": {},
   "source": [
    "#### Meilleurs produits"
   ]
  },
  {
   "cell_type": "markdown",
   "metadata": {},
   "source": [
    "**Produit 1: `B0001J3UWU`**"
   ]
  },
  {
   "cell_type": "markdown",
   "metadata": {},
   "source": [
    "![alt-text-1](time_best_1.png \"title-1\")"
   ]
  },
  {
   "cell_type": "markdown",
   "metadata": {},
   "source": [
    "Burst du nombre de revues entre les mois 120 et 140 pendant laquelle les notes stagnent: 92 revues.\n",
    "On s'attend à ce que les bigrammes des 2 classes soient en accord."
   ]
  },
  {
   "attachments": {},
   "cell_type": "markdown",
   "metadata": {},
   "source": [
    "![alt-text-1](hist_best_1.png \"title-1\")"
   ]
  },
  {
   "cell_type": "markdown",
   "metadata": {},
   "source": [
    "On prend un seuil sur les similarités à 0.7."
   ]
  },
  {
   "cell_type": "markdown",
   "metadata": {},
   "source": [
    "![alt-text-1](hist2_best_1.png \"title-1\")"
   ]
  },
  {
   "cell_type": "markdown",
   "metadata": {},
   "source": [
    "Seuil sur les sommes de similarités seuillées à 1."
   ]
  },
  {
   "cell_type": "markdown",
   "metadata": {},
   "source": [
    "![alt-text-1](sim_best_1.png \"title-1\")"
   ]
  },
  {
   "cell_type": "markdown",
   "metadata": {},
   "source": [
    "En période de burst:\n",
    "   * revues très similaires (classe 1): 3 bigrammes discriminants positifs\n",
    "   * les autres (classe -1): 2 positifs: accord"
   ]
  },
  {
   "cell_type": "markdown",
   "metadata": {},
   "source": [
    "![alt-text-1](disc_best_1.png \"title-1\")"
   ]
  },
  {
   "cell_type": "markdown",
   "metadata": {},
   "source": [
    "Même étude en période hors-burst (mois 0 à 119):\n",
    "   * revues très similaires (classe 1): positifs\n",
    "   * les autres (classe -1): positifs"
   ]
  },
  {
   "cell_type": "markdown",
   "metadata": {},
   "source": [
    "![alt-text-1](disc2_best_1.png \"title-1\")"
   ]
  },
  {
   "cell_type": "markdown",
   "metadata": {},
   "source": [
    "**Produit 1: `B0002KRC5Y`**"
   ]
  },
  {
   "cell_type": "markdown",
   "metadata": {},
   "source": [
    "![alt-text-1](time_best_2.png \"title-1\")"
   ]
  },
  {
   "cell_type": "markdown",
   "metadata": {},
   "source": [
    "Burst du nombre de revues entre les mois 80 et 100 pendant laquelle les notes stagnent: 220 revues.\n",
    "On s'attend à ce que les bigrammes des 2 classes soient en accord."
   ]
  },
  {
   "attachments": {},
   "cell_type": "markdown",
   "metadata": {},
   "source": [
    "![alt-text-1](hist_best_2.png \"title-1\")"
   ]
  },
  {
   "cell_type": "markdown",
   "metadata": {},
   "source": [
    "On prend un seuil sur les similarités à 0.7."
   ]
  },
  {
   "cell_type": "markdown",
   "metadata": {},
   "source": [
    "![alt-text-1](hist2_best_2.png \"title-1\")"
   ]
  },
  {
   "cell_type": "markdown",
   "metadata": {},
   "source": [
    "Seuil sur les sommes de similarités seuillées à 4."
   ]
  },
  {
   "cell_type": "markdown",
   "metadata": {},
   "source": [
    "![alt-text-1](sim_best_2.png \"title-1\")"
   ]
  },
  {
   "cell_type": "markdown",
   "metadata": {},
   "source": [
    "En période de burst: tout positif"
   ]
  },
  {
   "cell_type": "markdown",
   "metadata": {},
   "source": [
    "![alt-text-1](disc_best_2.png \"title-1\")"
   ]
  },
  {
   "cell_type": "markdown",
   "metadata": {},
   "source": [
    "Même étude en période hors-burst (mois 0 à 79): tout positif"
   ]
  },
  {
   "cell_type": "markdown",
   "metadata": {},
   "source": [
    "![alt-text-1](disc2_best_2.png \"title-1\")"
   ]
  },
  {
   "cell_type": "markdown",
   "metadata": {},
   "source": []
  },
  {
   "cell_type": "markdown",
   "metadata": {},
   "source": []
  },
  {
   "cell_type": "markdown",
   "metadata": {},
   "source": []
  },
  {
   "cell_type": "markdown",
   "metadata": {},
   "source": []
  },
  {
   "cell_type": "markdown",
   "metadata": {},
   "source": []
  },
  {
   "cell_type": "markdown",
   "metadata": {},
   "source": []
  },
  {
   "cell_type": "markdown",
   "metadata": {},
   "source": []
  },
  {
   "cell_type": "markdown",
   "metadata": {},
   "source": []
  },
  {
   "cell_type": "markdown",
   "metadata": {},
   "source": []
  },
  {
   "cell_type": "markdown",
   "metadata": {},
   "source": []
  }
 ],
 "metadata": {
  "kernelspec": {
   "display_name": "Python 3",
   "language": "python",
   "name": "python3"
  },
  "language_info": {
   "codemirror_mode": {
    "name": "ipython",
    "version": 3
   },
   "file_extension": ".py",
   "mimetype": "text/x-python",
   "name": "python",
   "nbconvert_exporter": "python",
   "pygments_lexer": "ipython3",
   "version": "3.8.3"
  }
 },
 "nbformat": 4,
 "nbformat_minor": 4
}
